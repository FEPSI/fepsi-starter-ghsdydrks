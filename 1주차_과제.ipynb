{
 "cells": [
  {
   "cell_type": "code",
   "execution_count": 1,
   "metadata": {},
   "outputs": [
    {
     "name": "stdout",
     "output_type": "stream",
     "text": [
      "385543.28942953143\n"
     ]
    }
   ],
   "source": [
    "# 1번\n",
    "FV = 1000000\n",
    "r = 0.1\n",
    "n = 10\n",
    "\n",
    "PV = FV/(1+r)**n\n",
    "print(PV)"
   ]
  },
  {
   "cell_type": "code",
   "execution_count": 3,
   "metadata": {},
   "outputs": [
    {
     "name": "stdout",
     "output_type": "stream",
     "text": [
      "2240.0645821442704\n"
     ]
    }
   ],
   "source": [
    "# 2번\n",
    "cash_flow = [-10000,3000,2000,4000,5000]\n",
    "r=0.05\n",
    "t=0\n",
    "pv_1 = 0\n",
    "for cf in cash_flow:\n",
    "  pv = cf/(1+r)**t\n",
    "  pv_1 += pv\n",
    "  t += 1\n",
    "print(pv_1)"
   ]
  },
  {
   "cell_type": "code",
   "execution_count": 4,
   "metadata": {},
   "outputs": [
    {
     "name": "stdout",
     "output_type": "stream",
     "text": [
      "1.7500000000000002\n"
     ]
    }
   ],
   "source": [
    "# 3번\n",
    "Sharpe_Ratio = (0.1 - 0.03)/0.04\n",
    "print(Sharpe_Ratio)"
   ]
  }
 ],
 "metadata": {
  "kernelspec": {
   "display_name": "Python 3",
   "language": "python",
   "name": "python3"
  },
  "language_info": {
   "codemirror_mode": {
    "name": "ipython",
    "version": 3
   },
   "file_extension": ".py",
   "mimetype": "text/x-python",
   "name": "python",
   "nbconvert_exporter": "python",
   "pygments_lexer": "ipython3",
   "version": "3.10.8"
  },
  "orig_nbformat": 4
 },
 "nbformat": 4,
 "nbformat_minor": 2
}
